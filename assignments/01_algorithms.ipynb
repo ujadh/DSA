{
 "cells": [
  {
   "cell_type": "markdown",
   "id": "8ace1b80",
   "metadata": {},
   "source": [
    "# Assignment 1\n",
    "\n",
    "These assignments are related to **different algorithms**.\n",
    "In a few assignments, not much new code is programmed, but the already given code is used in the assignments.\n",
    "* Read the related course material before doing the assignments from the [01_algorithms](https://ttc1050.pages.labranet.jamk.fi/ds_alg_material/materials/01_algorithms/).\n",
    "\n",
    "General notes of assignments:\n",
    "* NOTE! In general, after the implementation of the function, all assignments have a test program for the function.\n",
    "* NOTE! Add your code in the assignments only after the TODO lines."
   ]
  },
  {
   "cell_type": "markdown",
   "id": "1a5f8a2b",
   "metadata": {},
   "source": [
    "## Assignment 1.1 (1p)\n",
    "\n",
    "In the assignment, the function is already implemented.\n",
    "Implementation of the algorithm is presented below in the `numbers()` function.\n",
    "\n",
    "Based on that, please answer the following questions.\n",
    "\n",
    " * What is the output of the algorithm when it is called with an input value of `13`?\n",
    " * Describe what this algorithm does.\n"
   ]
  },
  {
   "cell_type": "code",
   "execution_count": 1,
   "id": "dfc710d8",
   "metadata": {
    "ExecuteTime": {
     "end_time": "2024-01-05T13:47:10.420356100Z",
     "start_time": "2024-01-05T13:47:10.349545700Z"
    },
    "lines_to_next_cell": 1
   },
   "outputs": [
    {
     "name": "stdout",
     "output_type": "stream",
     "text": [
      "1\n",
      "2\n",
      "4\n",
      "8\n",
      "16\n",
      "32\n",
      "64\n",
      "128\n",
      "256\n",
      "512\n",
      "1024\n",
      "2048\n",
      "4096\n"
     ]
    }
   ],
   "source": [
    "def numbers(b):\n",
    "    k = 0\n",
    "    sequence = [1]\n",
    "    response = []\n",
    "    while k <= b:\n",
    "        k = k + 1\n",
    "        sequence.append(sequence[k - 1] + sequence[k - 1])\n",
    "    for ind in range(b):\n",
    "        response.append(sequence[ind])\n",
    "    return response\n",
    "\n",
    "\n",
    "# Test\n",
    "numbs = numbers(13)\n",
    "\n",
    "for n in numbs:\n",
    "    print(n)"
   ]
  },
  {
   "cell_type": "markdown",
   "id": "e2a914b8",
   "metadata": {},
   "source": [
    "### Your Response:\n",
    "\n",
    "The output of the algorithm when called with an input value of 13 is :\n",
    "\n",
    "1\n",
    "2\n",
    "4\n",
    "8\n",
    "16\n",
    "32\n",
    "64\n",
    "128\n",
    "256\n",
    "512\n",
    "1024\n",
    "2048\n",
    "4096\n",
    "\n",
    "Explanation of the algorithm:\n",
    "\n",
    "-Here.The numbers function takes a parameter b as input.\n",
    "\n",
    "-It initializes a variable k to 0 and creates a list sequence with the first element as 1.\n",
    "\n",
    "-It then enters a while loop where it iterates until k is less than or equal to b.\n",
    "\n",
    "-In each iteration, it appends the sum of the last two elements of the sequence to the list.\n",
    "\n",
    "-After the while loop, it creates a new list response.\n",
    "\n",
    "-It then iterates over the elements of sequence up to the value of b and appends them to the response list.\n",
    "\n",
    "-Finally, the function returns the response list."
   ]
  },
  {
   "cell_type": "markdown",
   "id": "78bf8573",
   "metadata": {},
   "source": [
    "\n",
    "## Assignment 1.2 (1 p)\n",
    "\n",
    "In the assignment, the function is already implemented and\n",
    "function `calculate_numbers()` contains the implementation of an algorithm.\n",
    "\n",
    "Q: What is the output when the `calculate_numbers()` function is called with the following arguments: `0`, `3` and `5`?\n",
    "\n",
    "Print each result received on a separate line."
   ]
  },
  {
   "cell_type": "code",
   "execution_count": 6,
   "id": "fede26ca",
   "metadata": {
    "ExecuteTime": {
     "end_time": "2024-01-05T13:47:10.420356100Z",
     "start_time": "2024-01-05T13:47:10.401470500Z"
    },
    "lines_to_next_cell": 2
   },
   "outputs": [
    {
     "name": "stdout",
     "output_type": "stream",
     "text": [
      "-5.0\n",
      "0.3333333333333333\n",
      "0.7142857142857143\n"
     ]
    }
   ],
   "source": [
    "def generate_numbers(n):\n",
    "    if n == 0 or n == 1:\n",
    "        return 1\n",
    "    else:\n",
    "        result = (n - 2) + (n - 1)\n",
    "        return result\n",
    "\n",
    "def calculate_numbers(numb):\n",
    "    numb = generate_numbers(numb - 1) / generate_numbers(numb)\n",
    "    return numb\n",
    "\n",
    "# Test\n",
    "# TODO: What is the output when the algorithm (`calculate_numbers`) is called with the following numbers: 0, 3, and 5?\n",
    "# TODO: Print each result received on a separate line.\n",
    "\n",
    "# Call calculate_numbers() function with values 0, 3, and 5\n",
    "result_0 = calculate_numbers(0)\n",
    "result_3 = calculate_numbers(3)\n",
    "result_5 = calculate_numbers(5)\n",
    "\n",
    "# Print each result on a separate line\n",
    "print(result_0)\n",
    "print(result_3)\n",
    "print(result_5)\n"
   ]
  },
  {
   "cell_type": "markdown",
   "id": "a72be3b5",
   "metadata": {},
   "source": [
    "## Assignment 1.3 (1 p)\n",
    "\n",
    "In the assignment, the function is already implemented and\n",
    "`recursive_func()` contains the implementation of an algorithm.\n",
    "\n",
    "You are given a recursive function `recursive_func(n)` as well as a set of correct results in `correct_answer_01_03` variable.\n",
    "Your task is to analyze the provided recursive function and compare its output to the expected results.\n",
    "\n",
    "After the implementation of the function, there is a test part of the program.\n",
    "\n",
    "We have created a test program to call `recursive_func()` function with values from 0 to 10.\n",
    "A small code change is required for the test to work correctly.\n",
    "* You should use only five (5) decimals in results and compare test results to correct values.\n",
    "* You should compare the test results with the correct values with the `assert` statement, but that is already given in the assignment."
   ]
  },
  {
   "cell_type": "code",
   "execution_count": 7,
   "id": "2d154765",
   "metadata": {
    "ExecuteTime": {
     "end_time": "2024-01-05T13:47:12.328076700Z",
     "start_time": "2024-01-05T13:47:10.413375500Z"
    },
    "lines_to_next_cell": 2
   },
   "outputs": [
    {
     "name": "stdout",
     "output_type": "stream",
     "text": [
      "[1, 0.5, 0.66667, 0.6, 0.625, 0.61538, 0.61905, 0.61765, 0.61818, 0.61798, 0.61806]\n"
     ]
    }
   ],
   "source": [
    "correct_answer_01_03 = [1, 0.5, 0.66667, 0.6, 0.625, 0.61538, 0.61905, 0.61765, 0.61818, 0.61798, 0.61806]\n",
    "\n",
    "def recursive_func(n):\n",
    "    if n == 0:\n",
    "        return 1\n",
    "    else:\n",
    "        result = 1 / (1 + recursive_func(n - 1))\n",
    "        return result\n",
    "\n",
    "# Test\n",
    "\n",
    "result_arr = []\n",
    "\n",
    "# TODO: Call recursive_func() function with values 0-10 by using only five decimal in results.\n",
    "for i in range(0, 11):\n",
    "    # TODO: the code change is implemented on the next line\n",
    "    result_arr.append(round(recursive_func(i), 5))\n",
    "\n",
    "print(result_arr)\n",
    "\n",
    "assert result_arr == correct_answer_01_03\n"
   ]
  },
  {
   "cell_type": "markdown",
   "id": "6265cad7",
   "metadata": {},
   "source": [
    "## Assignment 1.4 (1p)\n",
    "\n",
    "Let's create the following _sequence of numbers_: `0, 1, 1, 2, 3, 5, 8, 13, 21, ...`.\n",
    "* In this sequence of numbers, any number is a result from the sum of two previous numbers.\n",
    "* Two first numbers (so `0` and `1`) of the sequence should be given beforehand.\n",
    "\n",
    "The sequence of numbers is therefore calculated as follows:\n",
    "* 0 + 1 = 1\n",
    "* 1 + 1 = 2\n",
    "* 1 + 2 = 3\n",
    "* 2 + 3 = 5\n",
    "* 3 + 5 = 8 etc.\n",
    "\n",
    "Create the algorithm for `count_sums()` function that will return values in the list.\n",
    "All the code in the assignment should be implemented in `count_sums()` function.\n",
    "\n",
    "You will test `count_sums()` function with the first `12` numbers in the sequence.\n",
    "* Note! The test program has already been implemented, so please don't edit it.\n",
    "\n",
    "You should compare the test results (`resp1` variable) with the correct values with\n",
    "the `assert` statement (`assert resp1 == correct_answer_01_04`), that is already given in the assignment."
   ]
  },
  {
   "cell_type": "code",
   "execution_count": 1,
   "id": "4b036810",
   "metadata": {
    "ExecuteTime": {
     "end_time": "2024-01-05T13:59:49.614785700Z",
     "start_time": "2024-01-05T13:59:49.553964Z"
    },
    "lines_to_next_cell": 2
   },
   "outputs": [
    {
     "name": "stdout",
     "output_type": "stream",
     "text": [
      "[0, 1, 1, 2, 3, 5, 8, 13, 21, 34, 55, 89, 144, 233]\n"
     ]
    }
   ],
   "source": [
    "def count_sums(iterations_max):\n",
    "    all_vals = [0, 1]\n",
    "\n",
    "    for i in range(2, iterations_max):\n",
    "        next_val = all_vals[i - 1] + all_vals[i - 2]\n",
    "        all_vals.append(next_val)\n",
    "\n",
    "    return all_vals\n",
    "\n",
    "# Test program\n",
    "resp1 = count_sums(14)\n",
    "print(resp1)\n",
    "\n",
    "correct_answer_01_04 = [0, 1, 1, 2, 3, 5, 8, 13, 21, 34, 55, 89, 144, 233]\n",
    "assert resp1 == correct_answer_01_04\n",
    "\n",
    "\n",
    "\n"
   ]
  }
 ],
 "metadata": {
  "jupytext": {
   "cell_metadata_filter": "-all",
   "main_language": "python",
   "notebook_metadata_filter": "-all"
  },
  "kernelspec": {
   "display_name": "Python 3 (ipykernel)",
   "language": "python",
   "name": "python3"
  },
  "language_info": {
   "codemirror_mode": {
    "name": "ipython",
    "version": 3
   },
   "file_extension": ".py",
   "mimetype": "text/x-python",
   "name": "python",
   "nbconvert_exporter": "python",
   "pygments_lexer": "ipython3",
   "version": "3.10.6"
  }
 },
 "nbformat": 4,
 "nbformat_minor": 5
}
