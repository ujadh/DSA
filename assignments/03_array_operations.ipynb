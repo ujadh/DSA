{
 "cells": [
  {
   "cell_type": "markdown",
   "id": "94c3f315",
   "metadata": {},
   "source": [
    "# Assignment 3\n",
    "\n",
    "These assignments are related to different **array operations** like _comparison_ and _sorting_.\n",
    "* Read the related course material before doing the assignments from the [Array sorting](https://ttc1050.pages.labranet.jamk.fi/ds_alg_material/materials/03_array_sorting/).\n",
    "\n",
    "General notes of assignments:\n",
    "* NOTE! In general, after the implementation of the function, all assignments have a test program for the function.\n",
    "* NOTE! Add your code in the assignments only after the TODO lines."
   ]
  },
  {
   "cell_type": "markdown",
   "id": "68f3ca08",
   "metadata": {},
   "source": [
    "## Assignment 3.1 (1 p)\n",
    "\n",
    "Create an algorithm, that compares the content of two arrays and\n",
    "returns all indexes where elements are different in these arrays.\n",
    "\n",
    "You should use the following string format (see also `correct_answer_03_01`):\n",
    "\n",
    "  ``index i: first[i] != second[i]``\n",
    "\n",
    "Put all the differences you find into a list variable `comp_result` and compare it to the correct answer `correct_answer_03_01`.\n",
    "\n",
    "Note! The test program has already been implemented, so please don't edit it."
   ]
  },
  {
   "cell_type": "code",
   "execution_count": 1,
   "id": "02c1db8c",
   "metadata": {
    "ExecuteTime": {
     "end_time": "2024-01-05T13:47:12.331273700Z",
     "start_time": "2024-01-05T13:47:10.392431700Z"
    },
    "lines_to_next_cell": 2
   },
   "outputs": [
    {
     "name": "stdout",
     "output_type": "stream",
     "text": [
      "answer ['index 0: a != e', 'index 3: d != g', 'index 4: e != a', 'index 6: g != d'] was OK!\n"
     ]
    }
   ],
   "source": [
    "correct_answer_03_01 = ['index 0: a != e', 'index 3: d != g', 'index 4: e != a', 'index 6: g != d']\n",
    "\n",
    "first = ['a', 'b', 'c', 'd', 'e', 'f', 'g', 'h']\n",
    "second = ['e', 'b', 'c', 'g', 'a', 'f', 'd', 'h']\n",
    "\n",
    "def compare(a, b):\n",
    "    differencies = []  # will include all indexes where elements are different.\n",
    "\n",
    "    for i in range(len(a)):\n",
    "        if a[i] != b[i]:\n",
    "            differencies.append(f\"index {i}: {a[i]} != {b[i]}\")\n",
    "\n",
    "    return differencies\n",
    "\n",
    "# Test\n",
    "comp_result = compare(first, second)\n",
    "\n",
    "assert len(comp_result) == 4, \"Error in length\"\n",
    "assert comp_result == correct_answer_03_01\n",
    "print(f\"answer {comp_result} was OK!\")"
   ]
  },
  {
   "cell_type": "markdown",
   "id": "e073947c",
   "metadata": {},
   "source": [
    "## Assignment 3.2 (1 p)\n",
    "\n",
    "Create own implementation of bubble sort algorithm.\n",
    "\n",
    "The `letters` list is defined at the beginning of the assignment contains letters. Please don't modify it.\n",
    "\n",
    "Sort `letters` list using `bubble_sort()` function, the algorithm of which is given as ready-made pseudocode in the assignment's comments.\n",
    "* Note! To clarify the Python implementation difference from the pseudocode, it's important not to sort the original list provided as an argument but rather create a new list within the `bubble_sort()` function.\n",
    "\n",
    "Note! The test program has already been implemented, so please don't edit it."
   ]
  },
  {
   "cell_type": "code",
   "execution_count": 3,
   "id": "c6ab48e2",
   "metadata": {
    "ExecuteTime": {
     "end_time": "2024-01-05T13:59:22.053617900Z",
     "start_time": "2024-01-05T13:59:21.980041500Z"
    }
   },
   "outputs": [
    {
     "name": "stdout",
     "output_type": "stream",
     "text": [
      "['i', 'j', 'b', 'h', 'l', 'a', 'k', 'c', 'g', 'f', 'e', 'd']\n",
      "answer ['a', 'b', 'c', 'd', 'e', 'f', 'g', 'h', 'i', 'j', 'k', 'l'] was OK!\n"
     ]
    }
   ],
   "source": [
    "correct_answer_03_02 = ['a', 'b', 'c', 'd', 'e', 'f', 'g', 'h', 'i', 'j', 'k', 'l']\n",
    "\n",
    "letters = ['i', 'j', 'b','h','l','a','k','c','g','f','e','d']\n",
    "\n",
    "# procedure bubbleSort(A : list of sortable items)\n",
    "#     n := length(A)\n",
    "#     repeat\n",
    "#         swapped := false\n",
    "#         for i := 1 to n-1 inclusive do\n",
    "#             { if this pair is out of order }\n",
    "#             if A[i-1] > A[i] then\n",
    "#                 { swap them and remember something changed }\n",
    "#                 swap(A[i-1], A[i])A\n",
    "#                 swapped := true\n",
    "#             end if\n",
    "#         end for\n",
    "#     until not swapped\n",
    "# end procedure\n",
    "\n",
    "def bubble_sort(a):\n",
    "    # Creating a new list to avoid modifying the original list\n",
    "    sorted_list = a.copy()\n",
    "\n",
    "    n = len(sorted_list)\n",
    "    swapped = True\n",
    "\n",
    "    while swapped:\n",
    "        swapped = False\n",
    "        for i in range(1, n):\n",
    "            if sorted_list[i - 1] > sorted_list[i]:\n",
    "                # Swap elements if they are in the wrong order\n",
    "                sorted_list[i - 1], sorted_list[i] = sorted_list[i], sorted_list[i - 1]\n",
    "                swapped = True\n",
    "\n",
    "    return sorted_list\n",
    "\n",
    "\n",
    "# Test\n",
    "sorted_letters = bubble_sort(letters)\n",
    "print(letters)\n",
    "assert letters != sorted_letters\n",
    "assert sorted_letters == correct_answer_03_02\n",
    "print(f\"answer {sorted_letters} was OK!\")\n"
   ]
  },
  {
   "cell_type": "markdown",
   "id": "c29fbfcc",
   "metadata": {},
   "source": [
    "## Assignment 3.3 (1 p)\n",
    "\n",
    "Create an algorithm that performs the following operations in order:\n",
    "1. Prompt the user for the array size.\n",
    "2. Accept user input for values (as `str`) until the array is filled, and populate the array with non-empty elements.\n",
    "3. Sort the array in ascending order using the `bubble_sort()` function developed in **assignment 3.2**.\n",
    "\n",
    "Note! The test program has already been implemented, so please don't edit it."
   ]
  },
  {
   "cell_type": "code",
   "execution_count": 5,
   "id": "76ffb111",
   "metadata": {
    "ExecuteTime": {
     "end_time": "2024-01-05T13:59:27.212017600Z",
     "start_time": "2024-01-05T13:59:27.124834800Z"
    }
   },
   "outputs": [
    {
     "name": "stdout",
     "output_type": "stream",
     "text": [
      "answer ['1', '2', '4'] was OK!\n"
     ]
    }
   ],
   "source": [
    "import unittest\n",
    "\n",
    "# This is the definition of bubble_sort function from previous assignment\n",
    "def bubble_sort(a):\n",
    "    sorted_list = a.copy()  # Creating a copy to avoid modifying the original list\n",
    "    n = len(sorted_list)\n",
    "    swapped = True\n",
    "\n",
    "    while swapped:\n",
    "        swapped = False\n",
    "        for i in range(1, n):\n",
    "            if sorted_list[i - 1] > sorted_list[i]:\n",
    "                sorted_list[i - 1], sorted_list[i] = sorted_list[i], sorted_list[i - 1]\n",
    "                swapped = True\n",
    "\n",
    "    return sorted_list\n",
    "\n",
    "def ask_array_from_user():\n",
    "    size = int(input(\"Please enter the array size: \"))\n",
    "    array = []\n",
    "    for _ in range(size):\n",
    "        value = input(\"Now enter a value: \")\n",
    "        array.append(value)\n",
    "    return array\n",
    "\n",
    "# Test\n",
    "list_from_user = ask_array_from_user()\n",
    "list_sorted = bubble_sort(list_from_user)\n",
    "\n",
    "unittest.TestCase().assertListEqual(list_sorted, sorted(list_from_user))\n",
    "print(f\"answer {list_sorted} was OK!\")"
   ]
  },
  {
   "cell_type": "markdown",
   "id": "32ae9959",
   "metadata": {},
   "source": [
    "\n",
    "## Assignment 3.4 (1 p)\n",
    "\n",
    "Compare sorting algorithms by taking their execution times.\n",
    "\n",
    "Use the `random` module in Python to generate a list of 10 000 random numbers by using the `random.randint()` function.\n",
    "Compare how long it takes to execute the algorithm with Python's standard `sort()` function or with your own `bubble_sort()` function.\n",
    "Use the `timeit` module to measure the execution time of each sorting method.\n",
    "\n",
    "Do the following task in the test program.\n",
    "1. Generate a list of 10,000 random numbers\n",
    "2. Take the time it takes to execute the Python standard function `sorted()`\n",
    "3. Take the time it takes to execute the own implementation of `bubble_sort()` function.\n",
    "\n",
    "Please don't edit `print()` functions which shows the end times."
   ]
  },
  {
   "cell_type": "code",
   "execution_count": 7,
   "id": "f43094ab",
   "metadata": {
    "ExecuteTime": {
     "end_time": "2024-01-05T13:59:35.745405Z",
     "start_time": "2024-01-05T13:59:35.738713400Z"
    }
   },
   "outputs": [
    {
     "name": "stdout",
     "output_type": "stream",
     "text": [
      "sorted(): 0.001373 seconds\n",
      "bubble_sort(): 11.719643 seconds\n",
      "sorted() vs. bubble_sort(): 0.011719 %\n"
     ]
    }
   ],
   "source": [
    "import random\n",
    "import timeit\n",
    "\n",
    "def bubble_sort(a):\n",
    "    sorted_list = a.copy()  # Creating a copy to avoid modifying the original list\n",
    "    n = len(sorted_list)\n",
    "    swapped = True\n",
    "\n",
    "    while swapped:\n",
    "        swapped = False\n",
    "        for i in range(1, n):\n",
    "            if sorted_list[i - 1] > sorted_list[i]:\n",
    "                sorted_list[i - 1], sorted_list[i] = sorted_list[i], sorted_list[i - 1]\n",
    "                swapped = True\n",
    "\n",
    "    return sorted_list\n",
    "\n",
    "#  Generating a list of 10,000 random numbers\n",
    "random_numbers = [random.randint(1, 10000) for _ in range(10000)]\n",
    "\n",
    "# Time taken by the execution of sorted() function\n",
    "time_sorted = timeit.timeit(lambda: sorted(random_numbers), number=1)\n",
    "\n",
    "# Time taken by the execution of bubble_sort() function\n",
    "time_bubble_sort = timeit.timeit(lambda: bubble_sort(random_numbers.copy()), number=1)\n",
    "\n",
    "\n",
    "\n",
    "print(f\"sorted(): {time_sorted:.6f} seconds\")\n",
    "print(f\"bubble_sort(): {time_bubble_sort:.6f} seconds\")\n",
    "print(f\"sorted() vs. bubble_sort(): {(time_sorted/time_bubble_sort)*100:.6f} %\")"
   ]
  }
 ],
 "metadata": {
  "jupytext": {
   "cell_metadata_filter": "-all",
   "main_language": "python",
   "notebook_metadata_filter": "-all"
  },
  "kernelspec": {
   "display_name": "Python 3 (ipykernel)",
   "language": "python",
   "name": "python3"
  },
  "language_info": {
   "codemirror_mode": {
    "name": "ipython",
    "version": 3
   },
   "file_extension": ".py",
   "mimetype": "text/x-python",
   "name": "python",
   "nbconvert_exporter": "python",
   "pygments_lexer": "ipython3",
   "version": "3.10.6"
  }
 },
 "nbformat": 4,
 "nbformat_minor": 5
}
